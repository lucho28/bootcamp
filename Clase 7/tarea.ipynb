{
 "cells": [
  {
   "cell_type": "code",
   "execution_count": 86,
   "metadata": {},
   "outputs": [],
   "source": [
    "class Node():\n",
    "    \n",
    "    def __init__(self,value) -> None:\n",
    "        self.value = value\n",
    "        self.left = None\n",
    "        self.rigth = None\n",
    "    \n",
    "\n",
    "class BinaryTree():\n",
    "    \n",
    "    def __init__(self,value) -> None:\n",
    "        self.root = Node(value)\n",
    "    \n",
    "    \n",
    "    def __add_value(self,node,value):\n",
    "        if value < node.value:\n",
    "            if node.left is None:\n",
    "                node.left = Node(value)\n",
    "            else:\n",
    "                self.__add_value(node.left,value)\n",
    "        else:\n",
    "            if node.rigth is None:\n",
    "                node.rigth = Node(value)\n",
    "            else:\n",
    "                self.__add_value(node.rigth,value)\n",
    "                \n",
    "                \n",
    "    def __inorder(self,node):\n",
    "        if node is not None:\n",
    "            self.__inorder(node.left)\n",
    "            print(node.value, end=\",\")\n",
    "            self.__inorder(node.rigth)\n",
    "            \n",
    "    def __find(self,node,value) -> int:\n",
    "        if node is None:\n",
    "            return None\n",
    "        if node.value == value:\n",
    "            return node\n",
    "        if value < node.value:\n",
    "            return self.__find(node.left, value)\n",
    "        else:\n",
    "            return self.__find(node.rigth, value)\n",
    "            \n",
    "    \n",
    "    \n",
    "    def add(self,value):\n",
    "        self.__add_value(self.root,value)\n",
    "    \n",
    "    def inorder(self):\n",
    "        print(\"Imprimiento arbolito en orden: \")\n",
    "        self.__inorder(self.root)\n",
    "        \n",
    "    def find(self, value):\n",
    "        node = self.__find(self.root, value)\n",
    "        if node is not None:\n",
    "            print(\"Se encontro el valor: \")\n",
    "            return node.value \n",
    "        else:\n",
    "            print(\"No se encuentra el valor: \")\n",
    "            return None\n",
    "\n",
    "\n",
    "        \n",
    "        \n",
    "         \n",
    "        \n",
    "        \n",
    "        "
   ]
  },
  {
   "cell_type": "code",
   "execution_count": 87,
   "metadata": {},
   "outputs": [],
   "source": [
    "tree = BinaryTree(1)\n",
    "tree.add(5)\n",
    "tree.add(3)\n",
    "tree.add(8)\n",
    "tree.add(1)\n",
    "tree.add(4)\n",
    "tree.add(7)\n",
    "tree.add(9)"
   ]
  },
  {
   "cell_type": "code",
   "execution_count": 88,
   "metadata": {},
   "outputs": [
    {
     "name": "stdout",
     "output_type": "stream",
     "text": [
      "Imprimiento arbolito en orden: \n",
      "1,1,3,4,5,7,8,9,"
     ]
    }
   ],
   "source": [
    "tree.inorder()"
   ]
  },
  {
   "cell_type": "code",
   "execution_count": 89,
   "metadata": {},
   "outputs": [
    {
     "name": "stdout",
     "output_type": "stream",
     "text": [
      "No se encuentra el valor: \n"
     ]
    }
   ],
   "source": [
    "tree.find(0)"
   ]
  }
 ],
 "metadata": {
  "kernelspec": {
   "display_name": "henry_venv",
   "language": "python",
   "name": "python3"
  },
  "language_info": {
   "codemirror_mode": {
    "name": "ipython",
    "version": 3
   },
   "file_extension": ".py",
   "mimetype": "text/x-python",
   "name": "python",
   "nbconvert_exporter": "python",
   "pygments_lexer": "ipython3",
   "version": "3.11.2"
  }
 },
 "nbformat": 4,
 "nbformat_minor": 2
}

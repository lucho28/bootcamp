{
 "cells": [
  {
   "cell_type": "markdown",
   "metadata": {},
   "source": [
    "# Práctica Clase 7"
   ]
  },
  {
   "cell_type": "markdown",
   "metadata": {},
   "source": [
    "1) Diseñar una clase que permita trabajar con un árbol binario y que contenga los métodos:<br>\n",
    "    * insertaVal: para insertar un dato<br>\n",
    "    * buscaVal: que devuelva True o False si existe o no un dato<br>\n",
    "    * verVal: que imprima por pantalla los valores del árbol<br>\n",
    "\n",
    "Nota: Se puede utilizar la recursividad\n"
   ]
  },
  {
   "cell_type": "code",
   "execution_count": 5,
   "metadata": {},
   "outputs": [],
   "source": [
    "class Nodo():\n",
    "    def __init__(self, dato):\n",
    "        self.dato = dato\n",
    "        self.izq = None\n",
    "        self.der = None"
   ]
  },
  {
   "cell_type": "code",
   "execution_count": 8,
   "metadata": {},
   "outputs": [],
   "source": [
    "class Arbol():\n",
    "    def __init__(self):\n",
    "        self.raiz = None\n",
    "\n",
    "    def insertaVal(self, dato):\n",
    "        n = Nodo(dato)\n",
    "        if (self.raiz == None):\n",
    "            self.raiz = n\n",
    "        else:\n",
    "            puntero = self.raiz\n",
    "            if (puntero.izq == None):\n",
    "                puntero.izq = n\n",
    "            if (puntero.der == None):\n",
    "                puntero.der = n"
   ]
  },
  {
   "cell_type": "code",
   "execution_count": 9,
   "metadata": {},
   "outputs": [],
   "source": [
    "a = Arbol()"
   ]
  },
  {
   "cell_type": "code",
   "execution_count": 10,
   "metadata": {},
   "outputs": [],
   "source": [
    "a.insertaVal(2)"
   ]
  },
  {
   "cell_type": "code",
   "execution_count": null,
   "metadata": {},
   "outputs": [],
   "source": [
    "class Node():\n",
    "    \n",
    "    def __init__(self,value) -> None:\n",
    "        self.value = value\n",
    "        self.left = None\n",
    "        self.rigth = None\n",
    "    \n",
    "\n",
    "class BinaryTree():\n",
    "    \n",
    "    def __init__(self,value) -> None:\n",
    "        self.root = Node(value)\n",
    "    \n",
    "    \n",
    "    def __add_value(self,node,value):\n",
    "        if value < node.value:\n",
    "            if node.left is None:\n",
    "                node.left = Node(value)\n",
    "            else:\n",
    "                self.__add_value(node.left,value)\n",
    "        else:\n",
    "            if node.rigth is None:\n",
    "                node.rigth = Node(value)\n",
    "            else:\n",
    "                self.__add_value(node.rigth,value)\n",
    "                \n",
    "                \n",
    "    def __inorder(self,node):\n",
    "        if node is not None:\n",
    "            self.__inorder(node.left)\n",
    "            print(node.value, end=\",\")\n",
    "            self.__inorder(node.rigth)\n",
    "            \n",
    "    def __find(self,node,value) -> int:\n",
    "        if node is None:\n",
    "            return None\n",
    "        if node.value == value:\n",
    "            return node\n",
    "        if value < node.value:\n",
    "            return self.__find(node.left, value)\n",
    "        else:\n",
    "            return self.__find(node.rigth, value)\n",
    "            \n",
    "    \n",
    "    \n",
    "    def add(self,value):\n",
    "        self.__add_value(self.root,value)\n",
    "    \n",
    "    def inorder(self):\n",
    "        print(\"Imprimiento arbolito en orden: \")\n",
    "        self.__inorder(self.root)\n",
    "        \n",
    "    def find(self, value):\n",
    "        node = self.__find(self.root, value)\n",
    "        if node is not None:\n",
    "            print(\"Se encontro el valor: \")\n",
    "            return node.value \n",
    "        else:\n",
    "            print(\"No se encuentra el valor: \")\n",
    "            return None"
   ]
  },
  {
   "cell_type": "code",
   "execution_count": null,
   "metadata": {},
   "outputs": [],
   "source": [
    "tree = BinaryTree(1)\n",
    "tree.add(5)\n",
    "tree.add(3)\n",
    "tree.add(8)\n",
    "tree.add(1)\n",
    "tree.add(4)\n",
    "tree.add(7)\n",
    "tree.add(9)"
   ]
  },
  {
   "cell_type": "code",
   "execution_count": null,
   "metadata": {},
   "outputs": [],
   "source": [
    "tree.inorder()"
   ]
  },
  {
   "cell_type": "code",
   "execution_count": null,
   "metadata": {},
   "outputs": [],
   "source": [
    "tree.find(0)"
   ]
  }
 ],
 "metadata": {
  "kernelspec": {
   "display_name": "Python 3",
   "language": "python",
   "name": "python3"
  },
  "language_info": {
   "codemirror_mode": {
    "name": "ipython",
    "version": 3
   },
   "file_extension": ".py",
   "mimetype": "text/x-python",
   "name": "python",
   "nbconvert_exporter": "python",
   "pygments_lexer": "ipython3",
   "version": "3.9.7"
  }
 },
 "nbformat": 4,
 "nbformat_minor": 4
}

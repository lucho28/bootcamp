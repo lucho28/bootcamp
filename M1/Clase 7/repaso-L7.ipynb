{
 "cells": [
  {
   "cell_type": "code",
   "execution_count": 9,
   "metadata": {},
   "outputs": [],
   "source": [
    "\n",
    "    \n",
    "\n",
    "class ArbolBinario():\n",
    "    \n",
    "    def __init__(self,dato) -> None:\n",
    "        self.dato = dato\n",
    "        self.izq = None\n",
    "        self.der = None\n",
    "    \n",
    "    def __init__(self) -> None:\n",
    "        self.raiz = None\n",
    "    \n",
    "    def agregar_valor(self,dato):\n",
    "        nodo = Nodo(dato)\n",
    "        if self.raiz == None:\n",
    "            self.raiz = nodo    \n",
    "        else:\n",
    "            puntero = self.raiz\n",
    "            if puntero.izq == None:\n",
    "                puntero.izq = nodo\n",
    "            if puntero.der == None:\n",
    "                puntero.der = nodo\n",
    "    \n",
    "    def mostrar_valor(self):\n",
    "        puntero = self.raiz\n",
    "        if puntero.izq:\n",
    "            puntero.izq.mostrar_valor()\n",
    "        print(self.dato)\n",
    "        if puntero.der:\n",
    "            puntero.der.mostrar_valor()\n",
    "\n"
   ]
  },
  {
   "cell_type": "code",
   "execution_count": 10,
   "metadata": {},
   "outputs": [],
   "source": [
    "arbol = ArbolBinario()"
   ]
  },
  {
   "cell_type": "code",
   "execution_count": 11,
   "metadata": {},
   "outputs": [],
   "source": [
    "arbol.agregar_valor(1)\n",
    "arbol.agregar_valor(2)\n",
    "arbol.agregar_valor(3)"
   ]
  },
  {
   "cell_type": "code",
   "execution_count": 12,
   "metadata": {},
   "outputs": [
    {
     "ename": "AttributeError",
     "evalue": "'Nodo' object has no attribute 'mostrar_valor'",
     "output_type": "error",
     "traceback": [
      "\u001b[0;31m---------------------------------------------------------------------------\u001b[0m",
      "\u001b[0;31mAttributeError\u001b[0m                            Traceback (most recent call last)",
      "\u001b[1;32m/home/lucho/DataScience/bootcamp/Clase 7/repaso-L7.ipynb Celda 4\u001b[0m line \u001b[0;36m1\n\u001b[0;32m----> <a href='vscode-notebook-cell:/home/lucho/DataScience/bootcamp/Clase%207/repaso-L7.ipynb#W3sZmlsZQ%3D%3D?line=0'>1</a>\u001b[0m arbol\u001b[39m.\u001b[39;49mmostrar_valor()\n",
      "\u001b[1;32m/home/lucho/DataScience/bootcamp/Clase 7/repaso-L7.ipynb Celda 4\u001b[0m line \u001b[0;36m2\n\u001b[1;32m     <a href='vscode-notebook-cell:/home/lucho/DataScience/bootcamp/Clase%207/repaso-L7.ipynb#W3sZmlsZQ%3D%3D?line=22'>23</a>\u001b[0m puntero \u001b[39m=\u001b[39m \u001b[39mself\u001b[39m\u001b[39m.\u001b[39mraiz\n\u001b[1;32m     <a href='vscode-notebook-cell:/home/lucho/DataScience/bootcamp/Clase%207/repaso-L7.ipynb#W3sZmlsZQ%3D%3D?line=23'>24</a>\u001b[0m \u001b[39mif\u001b[39;00m puntero\u001b[39m.\u001b[39mizq:\n\u001b[0;32m---> <a href='vscode-notebook-cell:/home/lucho/DataScience/bootcamp/Clase%207/repaso-L7.ipynb#W3sZmlsZQ%3D%3D?line=24'>25</a>\u001b[0m     puntero\u001b[39m.\u001b[39;49mizq\u001b[39m.\u001b[39;49mmostrar_valor()\n\u001b[1;32m     <a href='vscode-notebook-cell:/home/lucho/DataScience/bootcamp/Clase%207/repaso-L7.ipynb#W3sZmlsZQ%3D%3D?line=25'>26</a>\u001b[0m \u001b[39mprint\u001b[39m(\u001b[39mself\u001b[39m\u001b[39m.\u001b[39mdato)\n\u001b[1;32m     <a href='vscode-notebook-cell:/home/lucho/DataScience/bootcamp/Clase%207/repaso-L7.ipynb#W3sZmlsZQ%3D%3D?line=26'>27</a>\u001b[0m \u001b[39mif\u001b[39;00m puntero\u001b[39m.\u001b[39mder:\n",
      "\u001b[0;31mAttributeError\u001b[0m: 'Nodo' object has no attribute 'mostrar_valor'"
     ]
    }
   ],
   "source": [
    "arbol.mostrar_valor()"
   ]
  }
 ],
 "metadata": {
  "kernelspec": {
   "display_name": "Python 3",
   "language": "python",
   "name": "python3"
  },
  "language_info": {
   "codemirror_mode": {
    "name": "ipython",
    "version": 3
   },
   "file_extension": ".py",
   "mimetype": "text/x-python",
   "name": "python",
   "nbconvert_exporter": "python",
   "pygments_lexer": "ipython3",
   "version": "3.11.2"
  },
  "orig_nbformat": 4
 },
 "nbformat": 4,
 "nbformat_minor": 2
}

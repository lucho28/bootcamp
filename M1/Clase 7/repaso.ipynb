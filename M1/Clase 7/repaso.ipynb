{
 "cells": [
  {
   "cell_type": "markdown",
   "metadata": {},
   "source": [
    "1) Diseñar una clase que permita trabajar con un árbol binario y que contenga los métodos:<br>\n",
    "    * insertaVal: para insertar un dato<br>\n",
    "    * buscaVal: que devuelva True o False si existe o no un dato<br>\n",
    "    * verVal: que imprima por pantalla los valores del árbol<br>\n",
    "\n",
    "Nota: Se puede utilizar la recursividad"
   ]
  },
  {
   "cell_type": "code",
   "execution_count": 2,
   "metadata": {},
   "outputs": [],
   "source": [
    "\n",
    "class NodeSet():\n",
    "    \n",
    "    \n",
    "    def __init__(self,data) -> None:\n",
    "        self.data = data\n",
    "        self.left = None\n",
    "        self.right = None\n",
    "    \n",
    "    def insert_value(self,data):\n",
    "        \"\"\"Inserta valor en nodos del arbol\n",
    "\n",
    "        Args:\n",
    "            data (dato): _description_\n",
    "        \"\"\"\n",
    "        if self.data:\n",
    "            if data < self.data:\n",
    "                if self.left == None:\n",
    "                    self.left = NodeSet(data)\n",
    "                else:\n",
    "                    self.left.insert_value(data)\n",
    "            elif data > self.data:\n",
    "                if self.right == None:\n",
    "                    self.right = NodeSet(data)\n",
    "                else:\n",
    "                    self.right.insert_value(data)\n",
    "        else:\n",
    "            self.data = data\n",
    "    \n",
    "    def find_value(self,data):\n",
    "        \n",
    "                if data < self.data:\n",
    "                    if self.left == None:\n",
    "                        return False\n",
    "                    else:\n",
    "                        return self.left.find_value(data)\n",
    "                elif data > self.data:\n",
    "                    if self.right == None:\n",
    "                        return False\n",
    "                    else:\n",
    "                        return self.right.find_value(data)\n",
    "                else:\n",
    "                    return True\n",
    "    \n",
    "    def view_tree(self):\n",
    "        \n",
    "        if self.left:\n",
    "            self.left.view_tree()\n",
    "        print(self.data)\n",
    "        if self.right:\n",
    "            self.right.view_tree()"
   ]
  },
  {
   "cell_type": "code",
   "execution_count": 4,
   "metadata": {},
   "outputs": [],
   "source": [
    "root = NodeSet(50)"
   ]
  },
  {
   "cell_type": "code",
   "execution_count": 6,
   "metadata": {},
   "outputs": [],
   "source": [
    "root.insert_value(7)\n",
    "root.insert_value(8)\n",
    "root.insert_value(90)\n",
    "root.insert_value(6)\n",
    "root.insert_value(25)"
   ]
  },
  {
   "cell_type": "code",
   "execution_count": 7,
   "metadata": {},
   "outputs": [
    {
     "name": "stdout",
     "output_type": "stream",
     "text": [
      "6\n",
      "7\n",
      "8\n",
      "25\n",
      "50\n",
      "90\n"
     ]
    }
   ],
   "source": [
    "root.view_tree()"
   ]
  }
 ],
 "metadata": {
  "kernelspec": {
   "display_name": "henry_venv",
   "language": "python",
   "name": "python3"
  },
  "language_info": {
   "codemirror_mode": {
    "name": "ipython",
    "version": 3
   },
   "file_extension": ".py",
   "mimetype": "text/x-python",
   "name": "python",
   "nbconvert_exporter": "python",
   "pygments_lexer": "ipython3",
   "version": "3.11.2"
  }
 },
 "nbformat": 4,
 "nbformat_minor": 2
}

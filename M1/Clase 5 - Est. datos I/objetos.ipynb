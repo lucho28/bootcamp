{
 "cells": [
  {
   "cell_type": "code",
   "execution_count": 1,
   "metadata": {},
   "outputs": [],
   "source": [
    "import pandas as pd\n",
    "import numpy as np"
   ]
  },
  {
   "cell_type": "code",
   "execution_count": 5,
   "metadata": {},
   "outputs": [
    {
     "data": {
      "text/html": [
       "<div>\n",
       "<style scoped>\n",
       "    .dataframe tbody tr th:only-of-type {\n",
       "        vertical-align: middle;\n",
       "    }\n",
       "\n",
       "    .dataframe tbody tr th {\n",
       "        vertical-align: top;\n",
       "    }\n",
       "\n",
       "    .dataframe thead th {\n",
       "        text-align: right;\n",
       "    }\n",
       "</style>\n",
       "<table border=\"1\" class=\"dataframe\">\n",
       "  <thead>\n",
       "    <tr style=\"text-align: right;\">\n",
       "      <th></th>\n",
       "      <th>nombre</th>\n",
       "      <th>sueldo</th>\n",
       "      <th>sueldo_duplicado</th>\n",
       "      <th>sueldo_triplicado</th>\n",
       "    </tr>\n",
       "  </thead>\n",
       "  <tbody>\n",
       "    <tr>\n",
       "      <th>0</th>\n",
       "      <td>Amos</td>\n",
       "      <td>10</td>\n",
       "      <td>20</td>\n",
       "      <td>30</td>\n",
       "    </tr>\n",
       "    <tr>\n",
       "      <th>1</th>\n",
       "      <td>Fernando</td>\n",
       "      <td>20</td>\n",
       "      <td>40</td>\n",
       "      <td>60</td>\n",
       "    </tr>\n",
       "    <tr>\n",
       "      <th>2</th>\n",
       "      <td>Julieta</td>\n",
       "      <td>30</td>\n",
       "      <td>60</td>\n",
       "      <td>90</td>\n",
       "    </tr>\n",
       "  </tbody>\n",
       "</table>\n",
       "</div>"
      ],
      "text/plain": [
       "     nombre  sueldo  sueldo_duplicado  sueldo_triplicado\n",
       "0      Amos      10                20                 30\n",
       "1  Fernando      20                40                 60\n",
       "2   Julieta      30                60                 90"
      ]
     },
     "execution_count": 5,
     "metadata": {},
     "output_type": "execute_result"
    }
   ],
   "source": [
    "df = pd.DataFrame({\n",
    "    \"nombre\": [\"Amos\",\"Fernando\",\"Julieta\"],\n",
    "    \"sueldo\": [10,20,30]\n",
    "})\n",
    "\n",
    "df[\"sueldo_duplicado\"] = df[\"sueldo\"]*2\n",
    "df[\"sueldo_triplicado\"] = df.sueldo*3\n",
    "df"
   ]
  },
  {
   "cell_type": "code",
   "execution_count": 18,
   "metadata": {},
   "outputs": [],
   "source": [
    "class AgentEvaluator: #siempre en cameyo para las clases\n",
    "    \n",
    "    #doble separacion entre funciones\n",
    "    def __init__(self, \n",
    "                 nombre: str, \n",
    "                 operation: str) -> None: #ver que son las dataclases / _ (el guion delante son atributos privados)\n",
    "        self.nombre = nombre\n",
    "        self.operation = operation\n",
    "        self.result_returned = self.get_operation()\n",
    "        \n",
    "    \n",
    "    def get_operation(self) -> int:   #las funciones son todas minusculas, separados por guiones bajos\n",
    "        \"\"\"_summary_\n",
    "            Retornoa la operacion asignada\n",
    "        Returns:\n",
    "            int: _description_\n",
    "            retorna un valor\n",
    "        \"\"\"\n",
    "        if self.operation.lower() == \"suma\":\n",
    "            return 4+2\n",
    "        if self.operation.lower() == \"resta\": #como si fuenra variables globales\n",
    "            return abs(4-2)\n",
    "        else:\n",
    "            return 4*2\n",
    "    \n",
    "    \n",
    "    def power_final_result(self) -> int:\n",
    "        \"\"\"_summary_\n",
    "        \n",
    "        Returns:\n",
    "            int: _description_\n",
    "        \"\"\"\n",
    "        return self.result_returned ** 2"
   ]
  },
  {
   "cell_type": "code",
   "execution_count": 10,
   "metadata": {},
   "outputs": [
    {
     "data": {
      "text/plain": [
       "<__main__.AgentEvaluator at 0x7f28d7540790>"
      ]
     },
     "execution_count": 10,
     "metadata": {},
     "output_type": "execute_result"
    }
   ],
   "source": []
  },
  {
   "cell_type": "code",
   "execution_count": 23,
   "metadata": {},
   "outputs": [
    {
     "name": "stdout",
     "output_type": "stream",
     "text": [
      "lucho\n",
      "RESTA\n",
      "2\n"
     ]
    }
   ],
   "source": [
    "agent_evaluator = AgentEvaluator(nombre=\"lucho\",\n",
    "                                 operation=\"RESTA\")\n",
    "print(agent_evaluator.nombre)\n",
    "print(agent_evaluator.operation)\n",
    "print(agent_evaluator.result_returned)"
   ]
  },
  {
   "cell_type": "code",
   "execution_count": 22,
   "metadata": {},
   "outputs": [
    {
     "data": {
      "text/plain": [
       "4"
      ]
     },
     "execution_count": 22,
     "metadata": {},
     "output_type": "execute_result"
    }
   ],
   "source": [
    "agent_evaluator.power_final_result()"
   ]
  },
  {
   "cell_type": "code",
   "execution_count": null,
   "metadata": {},
   "outputs": [],
   "source": [
    "#para saber si el codigo esta bien\n",
    "#autopep8\n",
    "#black\n",
    "#flake8\n",
    "#pre-commit\n",
    "#las funciones deben ser cortas y hacer una sola cosa, algo chiquito"
   ]
  }
 ],
 "metadata": {
  "kernelspec": {
   "display_name": "henry_venv",
   "language": "python",
   "name": "python3"
  },
  "language_info": {
   "codemirror_mode": {
    "name": "ipython",
    "version": 3
   },
   "file_extension": ".py",
   "mimetype": "text/x-python",
   "name": "python",
   "nbconvert_exporter": "python",
   "pygments_lexer": "ipython3",
   "version": "3.11.2"
  }
 },
 "nbformat": 4,
 "nbformat_minor": 2
}

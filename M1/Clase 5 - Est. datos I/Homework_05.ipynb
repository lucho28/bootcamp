{
 "cells": [
  {
   "cell_type": "markdown",
   "metadata": {},
   "source": [
    "# Práctica Clase 5"
   ]
  },
  {
   "cell_type": "markdown",
   "metadata": {},
   "source": [
    "1) Implementar un juego, que consista en apilar números enteros del 1 al 20, de forma aleatoria, para lo cual debe usarse una estructura de Pila. \n",
    "Luego, el usuario debe elegir un número de veces en que se va a quitar elementos de la pila, los cuales, sumados entre sí, no deben superar el valor de 50.\n",
    "El usuario pierde si la suma supera ese valor. Si no lo supera, gana, pero su calificación será 10 menos el número elementos que falten quitar para todavía no superar 50.\n",
    "El programa debe informar si perdió, y si ganó, con qué calificación lo hizo.\n",
    "\n",
    "Consideraciones:<br>\n",
    "a. Se puede usar la función input() para obtener una entrada de teclado.<br>\n",
    "b. Se puede usar la el modulo random para obtener valores aleatorios."
   ]
  },
  {
   "cell_type": "code",
   "execution_count": null,
   "metadata": {},
   "outputs": [],
   "source": [
    "import random\n",
    "\n",
    "class EstructuraPila():\n",
    "    def __init__(self):\n",
    "        self.__list = []\n",
    "        \n",
    "    def esta_vacia(self):\n",
    "        if len(self.__list) == 0:\n",
    "            return True\n",
    "        else:\n",
    "            return False\n",
    "    \n",
    "    def push(self,dato):\n",
    "        self.__list.append(dato)\n",
    "    \n",
    "    def pop(self):\n",
    "        if self.esta_vacia():\n",
    "            self.__list.pop()\n",
    "        else:\n",
    "            print(\"La pila esta vacia. \")\n",
    "    \n",
    "    def mostrar_pila(self):\n",
    "        for i in self.__list:\n",
    "            print(i)\n",
    "            \n",
    "    def cargar_aleatorio(self):\n",
    "        for i in range(1,20):\n",
    "            self.push(random.randint(1,20))\n",
    "    \n",
    "    def jugar(self):\n",
    "        suma=0\n",
    "        puntuacion = 0\n",
    "        intentos = int(input(\"Ingrese cantidad de elementos a sacar: \"))\n",
    "        for i in range(0,intentos):\n",
    "            suma += self.__list.pop()\n",
    "        \n",
    "        if suma > 50:\n",
    "            print(\"Obtubiste: \",suma,\"Lamentablemente perdiste. Vuelve a intentarlo !!\")\n",
    "        else:\n",
    "            print(\"La suma dio: \",suma)\n",
    "            puntuacion = 10 - (50 - suma)\n",
    "            print(\"Excelente ! Obtubiste una puntuacion de: \",puntuacion) \n",
    "            "
   ]
  },
  {
   "cell_type": "code",
   "execution_count": null,
   "metadata": {},
   "outputs": [],
   "source": [
    "p = EstructuraPila()"
   ]
  },
  {
   "cell_type": "code",
   "execution_count": null,
   "metadata": {},
   "outputs": [],
   "source": [
    "p.cargar_aleatorio()"
   ]
  },
  {
   "cell_type": "code",
   "execution_count": null,
   "metadata": {},
   "outputs": [],
   "source": [
    "p.mostrar_pila()"
   ]
  },
  {
   "cell_type": "code",
   "execution_count": null,
   "metadata": {},
   "outputs": [],
   "source": [
    "p.jugar()"
   ]
  },
  {
   "cell_type": "markdown",
   "metadata": {},
   "source": [
    "2) Implementar un juego donde constas de 2 jarras, de capacidad 5 y 3 litros respectivamente, y debes colocar 4 litros en la jarra de 5L.\n",
    "Las opciones posibles son:\n",
    "* Llenar la jarra de 3 litros\n",
    "* Llenar la jarra de 5 litros\n",
    "* Vaciar la jarra de 3 litros\n",
    "* Vaciar la jarra de 5 litros\n",
    "* Verter el contenido de la jarra de 3 litros en la de 5 litros\n",
    "* Verter el contenido de la jarra de 5 litros en la de 3 litros"
   ]
  },
  {
   "cell_type": "code",
   "execution_count": 119,
   "metadata": {},
   "outputs": [],
   "source": [
    "class EstructuraPila():\n",
    "    def __init__(self):\n",
    "        self.__jarra3 = 0\n",
    "        self.__jarra5 = 0\n",
    "    \n",
    "    def llenar(self,jarra):\n",
    "        if jarra == 3:\n",
    "            if self.__jarra3 != 0:\n",
    "                print(\"La jarra tiene 3 lts. \")\n",
    "            else:\n",
    "                self.__jarra3 = 3\n",
    "                print(\"Se lleno jarra de 3 lts. \")\n",
    "        elif jarra == 5:\n",
    "            if self.__jarra5 != 0:\n",
    "                print(\"La jarra tiene 5 lts. \")\n",
    "            else:\n",
    "                self.__jarra5 = 5\n",
    "                print(\"Se lleno jarra de 5 lts. \")\n",
    "        else:\n",
    "            print(\"Indique si quiere llenar la jarra 3 o 5 (ingrese numero)\")\n",
    "            \n",
    "    \n",
    "    def vaciar(self,jarra):\n",
    "        if jarra == 3:\n",
    "            if self.__jarra3 == 0:\n",
    "                print(\"La jarra 3 esta vacia. \")\n",
    "            else:\n",
    "                self.__jarra3 = 0\n",
    "                print(\"Se vacio la jarra de 3 lts. \")\n",
    "        elif jarra == 5:\n",
    "            if self.__jarra5 == 0:\n",
    "                print(\"La jarra 5 esta vacia. \")\n",
    "            else:\n",
    "                self.__jarra5 = 0\n",
    "        else:\n",
    "            print(\"Indique cual jarra quiere vaciar (ingrese numero)\")\n",
    "        \n",
    "    def consulta(self):\n",
    "        print(f\"en la jarra 3 hay {self.__jarra3} lts y en la jarra 5 hay {self.__jarra5} lts.\")\n",
    "        \n",
    "    def verter(self,jarra):\n",
    "        if jarra == 3:\n",
    "            if self.__jarra5 == 0:\n",
    "                self.__jarra5 += self.__jarra3\n",
    "                self.__jarra3 = 0\n",
    "            else:\n",
    "                while(self.__jarra3 != 0 and self.__jarra5 < 5):\n",
    "                    self.__jarra3 -= 1\n",
    "                    self.__jarra5 += 1\n",
    "\n",
    "        elif jarra == 5:\n",
    "            if self.__jarra5 == 0:\n",
    "                pass\n",
    "            else:\n",
    "                while self.__jarra5 != 0 and self.__jarra3 < 3:\n",
    "                    self.__jarra3 += 1\n",
    "                    self.__jarra5 -= 1\n",
    "        print(f\"Ahora la jarra 3 tiene {self.__jarra3} lts y la jarra 5 tiene {self.__jarra5} lts.\")\n",
    "        "
   ]
  },
  {
   "cell_type": "code",
   "execution_count": 120,
   "metadata": {},
   "outputs": [],
   "source": [
    "j = EstructuraPila()\n"
   ]
  },
  {
   "cell_type": "code",
   "execution_count": 122,
   "metadata": {},
   "outputs": [
    {
     "name": "stdout",
     "output_type": "stream",
     "text": [
      "Se lleno jarra de 5 lts. \n",
      "Ahora la jarra 3 tiene 3 lts y la jarra 5 tiene 4 lts.\n",
      "Se vacio la jarra de 3 lts. \n",
      "Ahora la jarra 3 tiene 3 lts y la jarra 5 tiene 1 lts.\n",
      "La jarra tiene 5 lts. \n",
      "Ahora la jarra 3 tiene 3 lts y la jarra 5 tiene 1 lts.\n"
     ]
    }
   ],
   "source": [
    "j.llenar(5)\n",
    "j.verter(5)\n",
    "j.vaciar(3)\n",
    "j.verter(5)\n",
    "j.llenar(5)\n",
    "j.verter(5)\n"
   ]
  },
  {
   "cell_type": "code",
   "execution_count": 123,
   "metadata": {},
   "outputs": [
    {
     "name": "stdout",
     "output_type": "stream",
     "text": [
      "La jarra tiene 3 lts. \n",
      "Ahora la jarra 3 tiene 0 lts y la jarra 5 tiene 4 lts.\n",
      "Se lleno jarra de 3 lts. \n",
      "Ahora la jarra 3 tiene 2 lts y la jarra 5 tiene 5 lts.\n",
      "Ahora la jarra 3 tiene 0 lts y la jarra 5 tiene 2 lts.\n",
      "Se lleno jarra de 3 lts. \n",
      "Ahora la jarra 3 tiene 0 lts y la jarra 5 tiene 5 lts.\n"
     ]
    }
   ],
   "source": [
    "j.llenar(3)\n",
    "j.verter(3)\n",
    "j.llenar(3)\n",
    "j.verter(3)\n",
    "j.vaciar(5)\n",
    "j.verter(3)\n",
    "j.llenar(3)\n",
    "j.verter(3)"
   ]
  },
  {
   "cell_type": "code",
   "execution_count": 142,
   "metadata": {},
   "outputs": [],
   "source": [
    "class PilaJarra():\n",
    "    def __init__(self):\n",
    "        self.jarra = []\n",
    "    \n",
    "    def es_vacia(self):\n",
    "        return len(self.jarra) == 0\n",
    "    \n",
    "    def llenar(self,valor):\n",
    "        self.jarra.append(valor)\n",
    "    \n",
    "    def vaciar(self):\n",
    "        if not self.es_vacia():\n",
    "            return self.jarra.pop()\n",
    "    \n",
    "    def ver_tope(self):\n",
    "        if not self.es_vacia():\n",
    "            return self.jarra[-1]\n",
    "    \n",
    "\n",
    "class JuegoJarras():\n",
    "    def __init__(self):\n",
    "        self.jarra3 = PilaJarra()\n",
    "        self.jarra5 = PilaJarra()\n",
    "    \n",
    "    \n",
    "    def estado(self):\n",
    "        print(f\"la jarra de 3 tiene {self.jarra3.ver_tope()}, la jarra de 5 tiene {self.jarra5.ver_tope()}\")\n",
    "        \n",
    "    def llenar_jarra3(self):\n",
    "        self.jarra3.llenar(3)\n",
    "    \n",
    "    def llenar_jarra5(self):\n",
    "        self.jarra5.llenar(5)\n",
    "    \n",
    "    def vaciar_jarra3(self):\n",
    "        if not self.jarra3.es_vacia():\n",
    "            self.jarra3.vaciar()\n",
    "    \n",
    "    def vaciar_jarra5(self):\n",
    "        if not self.jarra5.es_vacia():\n",
    "            self.jarra5.vaciar()\n",
    "        \n",
    "    def verter_3_a_5(self):\n",
    "        if not self.jarra3.es_vacia() and self.jarra5.ver_tope() < 5:\n",
    "            self.jarra5.llenar(self.jarra3.vaciar())\n",
    "    \n",
    "    def verter_5_a_3(self):\n",
    "        if not self.jarra5.es_vacia() and (not self.jarra3.es_vacia()) and (self.jarra3.ver_tope() < 3):\n",
    "            self.jarra3.llenar(self.jarra5.vaciar())"
   ]
  },
  {
   "cell_type": "code",
   "execution_count": 144,
   "metadata": {},
   "outputs": [
    {
     "name": "stdout",
     "output_type": "stream",
     "text": [
      "la jarra de 3 tiene None, la jarra de 5 tiene 5\n"
     ]
    }
   ],
   "source": [
    "j = JuegoJarras()\n",
    "j.llenar_jarra5()\n",
    "j.verter_5_a_3()\n",
    "j.vaciar_jarra3()\n",
    "j.verter_5_a_3()\n",
    "j.llenar_jarra5()\n",
    "j.verter_5_a_3()\n",
    "j.estado()"
   ]
  }
 ],
 "metadata": {
  "kernelspec": {
   "display_name": "Python 3.11.3 64-bit",
   "language": "python",
   "name": "python3"
  },
  "language_info": {
   "codemirror_mode": {
    "name": "ipython",
    "version": 3
   },
   "file_extension": ".py",
   "mimetype": "text/x-python",
   "name": "python",
   "nbconvert_exporter": "python",
   "pygments_lexer": "ipython3",
   "version": "3.11.2"
  },
  "vscode": {
   "interpreter": {
    "hash": "52634da84371cba311ea128a5ea7cdc41ff074b781779e754b270ff9f8153cee"
   }
  }
 },
 "nbformat": 4,
 "nbformat_minor": 4
}

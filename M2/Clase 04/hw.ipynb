{
 "cells": [
  {
   "cell_type": "code",
   "execution_count": 2,
   "metadata": {},
   "outputs": [],
   "source": [
    "from math import e, factorial\n",
    "from statistics import NormalDist"
   ]
  },
  {
   "cell_type": "code",
   "execution_count": 3,
   "metadata": {},
   "outputs": [],
   "source": [
    "#DISTRIBUCIÓN BINOMIAL\n",
    "def funcion_binomial(k,n,p):\n",
    "  num_exitos = factorial(n)\n",
    "  num_eventos = factorial (k) * factorial(n-k)\n",
    "  exitos_fracaso = pow(p,k) * pow(1-p,(n-k))\n",
    "\n",
    "  binomial = (num_exitos / num_eventos) * exitos_fracaso\n",
    "\n",
    "  return binomial"
   ]
  },
  {
   "cell_type": "code",
   "execution_count": 6,
   "metadata": {},
   "outputs": [],
   "source": [
    "#DISTRIBUCIÓN DE POISSON\n",
    "def probabilidad_poisson(lamba_np,x):\n",
    "     probabilidad = (pow(e,-lamba_np) * pow(lamba_np,x))/factorial(x)\n",
    "     return probabilidad"
   ]
  },
  {
   "cell_type": "code",
   "execution_count": 7,
   "metadata": {},
   "outputs": [],
   "source": [
    "#DISTRIBUCIÓN HIPERGEOMÉTRICA\n",
    "from scipy import stats\n",
    "#M es N, N es n, n es k, k es x\n",
    "\n",
    "M, n, k, N = [12, 5, 1, 3]\n",
    "# hypergeom.cdf(x, M, n, N)\n",
    "hypergeo = stats.hypergeom(M,n,N)\n",
    "\n",
    "def probabilidad_hipergeometrica(N,X,n,x):\n",
    "  Xx = factorial(X)/(factorial(x)*factorial(X-x))\n",
    "  NX_nx= factorial(N-X)/(factorial(n-x)*factorial((N-X)-(n-x)))\n",
    "  Nn = factorial(N)/(factorial(n)*factorial(N-n))\n",
    "  hipergeometrica = (Xx * NX_nx)/Nn\n",
    "\n",
    "  return hipergeometrica"
   ]
  },
  {
   "cell_type": "markdown",
   "metadata": {},
   "source": [
    "1. Considera el experimento que consiste en un empleado que arma un producto.\n",
    "  - a. Defina la variable aleatoria que represente el tiempo en minutos requerido para armar el producto.<br>\n",
    "  - b. ¿Qué valores toma la variable aleatoria?<br>\n",
    "  - c. ¿Es una variable aleatoria discreta o continua?<br>"
   ]
  },
  {
   "cell_type": "code",
   "execution_count": null,
   "metadata": {},
   "outputs": [],
   "source": [
    "# a) la variable aleatoria va a ser x = cantidad de tiempo en minutos\n",
    "# b) la variable aleatoria puede tomar de 0 a infinito\n",
    "# c) es continua, porque dentro de un intervalo puede tomar infinito o cualquier valor.\n"
   ]
  },
  {
   "cell_type": "markdown",
   "metadata": {},
   "source": [
    "2. Considera el experimento que consiste en lanzar una moneda dos veces.\n",
    "  - a. Enumere los resultados experimentales.\n",
    "  - b. Defina una variable aleatoria que represente el número de caras en los dos lanzamientos.\n",
    "  - c. Dé el valor que la variable aleatoria tomará en cada uno de los resultados experimentales.\n",
    "  - d. ¿Es una variable aleatoria discreta o continua?"
   ]
  },
  {
   "cell_type": "code",
   "execution_count": 1,
   "metadata": {},
   "outputs": [
    {
     "data": {
      "text/plain": [
       "{1: ['cara', 'sello'],\n",
       " 2: ['cara', 'cara'],\n",
       " 3: ['sello', 'cara'],\n",
       " 4: ['sello', 'sello']}"
      ]
     },
     "execution_count": 1,
     "metadata": {},
     "output_type": "execute_result"
    }
   ],
   "source": [
    "# los resultados pueden ser 2 en un lanzamiento, cara o sello\n",
    "# a) 2 ** n n= cantidad de lanzamientos.\n",
    "H = \"cara\"\n",
    "T = \"sello\"\n",
    "\n",
    "resultados = {1 : [H,T],\n",
    "              2 : [H,H],\n",
    "              3 : [T,H],\n",
    "              4 : [T,T],\n",
    "}\n",
    "resultados\n",
    "\n",
    "# b) numero de caras en 2 lanzamientos x = cantidad de caras P(x=0)\n",
    "\n",
    "# c)\n",
    "resultados = {1 : [H,T,1], # P(x=1)\n",
    "              2 : [H,H,2], # P(x=2)\n",
    "              3 : [T,H,1], # P(x=1)\n",
    "              4 : [T,T,0], # P(x=0)\n",
    "}\n",
    "\n",
    "# d) es una variable discreta."
   ]
  },
  {
   "cell_type": "markdown",
   "metadata": {},
   "source": [
    "3. Considera las decisiones de compra de los próximos tres clientes que lleguen a la tienda de ropa Martin Clothing Store. De acuerdo con la experiencia, el gerente de la tienda estima que la probabilidad de que un cliente realice una compra es 0.30. \n",
    "  - a. Describa si cumple con las reglas para clasificarlo como un experimiento binomial.\n",
    "  - b. ¿Cuál es la probabilidad de que dos de los próximos tres clientes realicen una compra?\n",
    "  - c. ¿Cuál es la probabilidad de que cuatro de los próximos diez clientes realicen una compra?"
   ]
  },
  {
   "cell_type": "code",
   "execution_count": 5,
   "metadata": {},
   "outputs": [
    {
     "data": {
      "text/plain": [
       "0.20012094899999994"
      ]
     },
     "execution_count": 5,
     "metadata": {},
     "output_type": "execute_result"
    }
   ],
   "source": [
    "# a) si es binomial porque tengo 2 opciones, compran o no compran\n",
    "\n",
    "# b) \n",
    "funcion_binomial(2,3,0.30)\n",
    "#funcion_binomial(k,n,p) \n",
    "# k= el nro de exito a obtener, en este caso 2\n",
    "# n= la cantidad de ensayos, en este caso con 3 clientes\n",
    "# p= la probabilidad de exito, en este caso 0.30 dada en el ejercicio.\n",
    "\n",
    "# c)\n",
    "funcion_binomial(4,10,0.30)"
   ]
  },
  {
   "cell_type": "markdown",
   "metadata": {},
   "source": [
    "4.  A la oficina de reservaciones de una aerolínea regional llegan 48 llamadas por hora.\n",
    "- a. Calcule la probabilidad de recibir cinco llamadas en un lapso de 5 minutos.\n",
    "- b. Estime la probabilidad de recibir exactamente 10 llamadas en un lapso de 15 minutos.\n",
    "- c. Suponga que no hay ninguna llamada en espera. Si el agente de viajes necesitará 5 minutos para la llamada que está atendiendo, ¿cuántas llamadas habrá en espera para cuando él termine? ¿Cuál es la probabilidad de que no haya ninguna llamada en espera?\n",
    "- d. Si en este momento no hay ninguna llamada, ¿cuál es la probabilidad de que el agente de viajes pueda tomar 3 minutos de descanso sin ser interrumpido por una llamada?"
   ]
  },
  {
   "cell_type": "code",
   "execution_count": null,
   "metadata": {},
   "outputs": [],
   "source": [
    "# a) \n",
    "probabilidad_poisson()"
   ]
  }
 ],
 "metadata": {
  "kernelspec": {
   "display_name": "Python 3",
   "language": "python",
   "name": "python3"
  },
  "language_info": {
   "codemirror_mode": {
    "name": "ipython",
    "version": 3
   },
   "file_extension": ".py",
   "mimetype": "text/x-python",
   "name": "python",
   "nbconvert_exporter": "python",
   "pygments_lexer": "ipython3",
   "version": "3.11.2"
  }
 },
 "nbformat": 4,
 "nbformat_minor": 2
}

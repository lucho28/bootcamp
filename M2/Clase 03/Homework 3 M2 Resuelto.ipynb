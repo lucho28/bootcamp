{
 "cells": [
  {
   "cell_type": "markdown",
   "metadata": {},
   "source": [
    "1. Suponga dos eventos, A y B, y que P(A) = 0.50, P(B) = 0.60 y P(A ∩ B) = 0.40.<br>\n",
    "- a. Halle P(A | B).\n",
    "- b. Halle P(B | A).\n",
    "- c. ¿A y B son independientes? ¿Por qué sí o por qué no?"
   ]
  },
  {
   "cell_type": "code",
   "execution_count": null,
   "metadata": {},
   "outputs": [],
   "source": [
    "print(0.4 / 0.6)\n",
    "print(0.4 /  0.5)\n",
    "#P(AyB) = P(A) *  P(B)\n",
    "print(0.5 * 0.6)\n",
    "#No son independientes"
   ]
  },
  {
   "cell_type": "markdown",
   "metadata": {},
   "source": [
    "2. Suponga dos eventos, A y B, que son mutuamente excluyentes. Admita, además, que P(A) = 0.30 y P(B) = 0.40.<br>\n",
    "- a. Obtenga P(A ∩ B). ¿Existe intersección entre los dos conjuntos?.\n",
    "- b. Calcule P(A | B).\n",
    "- c. Un estudiante de estadística argumenta que los conceptos de eventos mutuamente excluyentes y eventos independientes son en realidad lo mismo y que si los eventos son mutuamente excluyentes deben ser también independientes. ¿Está usted de acuerdo? Use la información sobre las probabilidades para justificar su respuesta."
   ]
  },
  {
   "cell_type": "code",
   "execution_count": null,
   "metadata": {},
   "outputs": [],
   "source": [
    "# P(A ∩ B) = 0\n",
    "# P(A | B) = 0 / 0.4 = 0\n",
    "# Se equivoca, porque no son lo mismo "
   ]
  },
  {
   "cell_type": "markdown",
   "metadata": {},
   "source": [
    "Dada la siguiente tabla:<br>\n",
    "![Sucesos](../_src/assets/sucesos.PNG)<br>\n",
    "\n",
    "3. Si en la concesionaria se seleccionan dos ventas con reposición (Los sucesos son independientes.). Hallar la probabilidad de que las ventas sean:<br>\n",
    " \n",
    "  - a. La primera de un comprador de “menos de 40 años” y la segunda de uno de \"entre 40 y 50 años\". \n",
    "  \n",
    "  - b. las dos sean de autos \"nacionales\"."
   ]
  },
  {
   "cell_type": "code",
   "execution_count": null,
   "metadata": {},
   "outputs": [],
   "source": [
    "# P(<40 y entre 40 y 50) = p(<40) * p(entre 40 y 50)\n",
    "print((30/80) * (34/80))\n",
    "\n",
    "# P(N y N) = p(N) * p(N) \n",
    "print((50/80) ** 2)"
   ]
  },
  {
   "cell_type": "markdown",
   "metadata": {},
   "source": [
    "\n",
    "4. Si la selección de las dos ventas se realiza sin reposición. Hallar la probabilidad de que las ventas sean:<br>\n",
    "  Los sucesos son condicionales.\n",
    "\n",
    " - a. la primera de un comprador de “menos de 40 años” y la segunda de uno de \"entre 40 y 50 años\".\n",
    "\n",
    " - b. las dos sean de autos \"nacionales\"."
   ]
  },
  {
   "cell_type": "code",
   "execution_count": null,
   "metadata": {},
   "outputs": [],
   "source": [
    "# P(<40 y entre 40 y 50) = p(<40) * p(entre 40 y 50 | <40)\n",
    "print((30/80) * (34/79))\n",
    "\n",
    "# P(N y N) = p(N) * p(N | N) \n",
    "print(round((50/80) * (49/79),2))"
   ]
  },
  {
   "cell_type": "markdown",
   "metadata": {},
   "source": [
    "5. Si la selección de las dos ventas se realiza sin reposición. Hallar la probabilidad de que las ventas sean:<br>\n",
    "  Los sucesos son condicionales.\n",
    "  \n",
    " - a. De un comprador de “menos de 40 años” y de uno de \"entre 40 y 50 años\". Sin importar el orden."
   ]
  },
  {
   "cell_type": "code",
   "execution_count": null,
   "metadata": {},
   "outputs": [],
   "source": [
    "print((30/80) * (34/79) + (34/80) * (30/79))"
   ]
  },
  {
   "cell_type": "markdown",
   "metadata": {},
   "source": [
    " 6. Debido al aumento de los costos de los seguros, en un país 43 millones de personas, hay personas que no cuentan con un seguro médico. En la tabla siguiente se muestran datos muestrales representativos de la cantidad de personas que cuentan con seguro médico:<br>\n",
    " ![Seguro](../_src/assets/seguro.PNG)\n",
    "\n",
    "- a. Con estos datos elabore una tabla de probabilidad conjunta y úsela para responder las preguntas restantes.\n",
    "- b. ¿Qué indican las probabilidades marginales acerca de la edad de la población?\n",
    "- c. ¿Cuál es la probabilidad de que una persona tomada en forma aleatoria no tenga seguro médico?\n",
    "- d. Si la persona tiene entre 18 y 34 años, ¿cuál es la probabilidad de que no tenga seguro médico?\n",
    "- e. Si la persona tiene 35 años o más ¿cuál es la probabilidad de que no tenga seguro médico?\n",
    "- f. Si la persona no tiene seguro médico, ¿cuál es la probabilidad de que tenga entre 18 y 34 años?\n"
   ]
  },
  {
   "cell_type": "code",
   "execution_count": null,
   "metadata": {},
   "outputs": [],
   "source": [
    "#   a)\n",
    "#                Sí      No    Total\n",
    "# 18 a 34       0.375   0.085   0.46 (probabilidad marginal)\n",
    "# 35 o mayor    0.475   0.065   0.54 (probabilidad marginal)\n",
    "# Total         0.850   0.150   1.00 \n",
    "\n",
    "#   b) 46% 18 a 34; 54% 35 y mayores\n",
    "#   c) 0.15, según tabla.\n",
    "#   d) P(NO | 18 a 34 ) = 0.085 / 0.46 = 0.1848. \n",
    "#   e) P(NO | 35 o más ) = 0.065 / 0.54 = 0.1204.\n",
    "#   f) P(18 a 34 | NO  ) = 0.085 / 0.15 = 0.5677."
   ]
  }
 ],
 "metadata": {
  "kernelspec": {
   "display_name": "Python 3.11.3 64-bit",
   "language": "python",
   "name": "python3"
  },
  "language_info": {
   "codemirror_mode": {
    "name": "ipython",
    "version": 3
   },
   "file_extension": ".py",
   "mimetype": "text/x-python",
   "name": "python",
   "nbconvert_exporter": "python",
   "pygments_lexer": "ipython3",
   "version": "3.11.3"
  },
  "orig_nbformat": 4,
  "vscode": {
   "interpreter": {
    "hash": "52634da84371cba311ea128a5ea7cdc41ff074b781779e754b270ff9f8153cee"
   }
  }
 },
 "nbformat": 4,
 "nbformat_minor": 2
}

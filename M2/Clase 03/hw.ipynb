{
 "cells": [
  {
   "cell_type": "markdown",
   "metadata": {},
   "source": [
    "1. Suponga dos eventos, A y B, y que P(A) = 0.50, P(B) = 0.60 y P(A ∩ B) = 0.40.<br>\n",
    "- a. Halle P(A | B).\n",
    "- b. Halle P(B | A).\n",
    "- c. ¿A y B son independientes? ¿Por qué sí o por qué no?"
   ]
  },
  {
   "cell_type": "code",
   "execution_count": 5,
   "metadata": {},
   "outputs": [
    {
     "name": "stdout",
     "output_type": "stream",
     "text": [
      "P(A|B) = P(A Y B) / P(B) es:  0.6666666666666667\n",
      "P(A|B) = P(B Y A) / P(A) es:  0.8\n"
     ]
    }
   ],
   "source": [
    "# P(A|B) = P(A Y B) / P(B)\n",
    "\n",
    "print(\"P(A|B) = P(A Y B) / P(B) es: \", 0.40 / 0.60)\n",
    "print(\"P(A|B) = P(B Y A) / P(A) es: \",0.40 / 0.50)\n",
    "\n",
    "# no son independietes porque tengo un valor de la interseccion\n",
    "# si fuesen independientes P(A y B) = 0"
   ]
  },
  {
   "cell_type": "markdown",
   "metadata": {},
   "source": [
    "2. Suponga dos eventos, A y B, que son mutuamente excluyentes. Admita, además, que P(A) = 0.30 y P(B) = 0.40.<br>\n",
    "- a. Obtenga P(A ∩ B). ¿Existe intersección entre los dos conjuntos?.\n",
    "- b. Calcule P(A | B).\n",
    "- c. Un estudiante de estadística argumenta que los conceptos de eventos mutuamente excluyentes y eventos independientes son en realidad lo mismo y que si los eventos son mutuamente excluyentes deben ser también independientes. ¿Está usted de acuerdo? Use la información sobre las probabilidades para justificar su respuesta."
   ]
  },
  {
   "cell_type": "code",
   "execution_count": null,
   "metadata": {},
   "outputs": [],
   "source": [
    "# a) si los eventos son mutuamente excluyentes no existe interseccion entre los 2\n",
    "# b) P(A|B) = P(A Y B) / P(B) si son mutuamente excluyentes entoces es 0\n",
    "# c)    excluyente e independiente son dos cosas diferentes, en los excluyentes los eventos se ven afectados\n",
    "#       por la ocurrencia del otro. En los independientes no.\n",
    "\n"
   ]
  },
  {
   "cell_type": "markdown",
   "metadata": {},
   "source": [
    "Dada la siguiente tabla:<br>\n",
    "![Sucesos](../_src/assets/sucesos.PNG)<br>\n",
    "\n",
    "3. Si en la concesionaria se seleccionan dos ventas con reposición (Los sucesos son independientes.). Hallar la probabilidad de que las ventas sean:<br>\n",
    " \n",
    "  - a. La primera de un comprador de “menos de 40 años” y la segunda de uno de \"entre 40 y 50 años\". \n",
    "  \n",
    "  - b. las dos sean de autos \"nacionales\"."
   ]
  },
  {
   "cell_type": "code",
   "execution_count": 9,
   "metadata": {},
   "outputs": [
    {
     "name": "stdout",
     "output_type": "stream",
     "text": [
      "0.159375\n",
      "0.2304\n"
     ]
    }
   ],
   "source": [
    "# al ser con reposicion el espacio muestral es el mismo siempre = 80\n",
    "#P(x<40 y 40<x<50 ) = 30/80 * 34/80\n",
    "print(30/80 * 34/80)    # a\n",
    "print((24/50) ** 2)     # b\n"
   ]
  },
  {
   "cell_type": "markdown",
   "metadata": {},
   "source": [
    "4. Si la selección de las dos ventas se realiza sin reposición. Hallar la probabilidad de que las ventas sean:<br>\n",
    "  Los sucesos son condicionales.\n",
    "\n",
    " - a. la primera de un comprador de “menos de 40 años” y la segunda de uno de \"entre 40 y 50 años\".\n",
    "\n",
    " - b. las dos sean de autos \"nacionales\"."
   ]
  },
  {
   "cell_type": "code",
   "execution_count": 12,
   "metadata": {},
   "outputs": [
    {
     "name": "stdout",
     "output_type": "stream",
     "text": [
      "0.16139240506329114\n",
      "0.39\n"
     ]
    }
   ],
   "source": [
    "# claro al ser si reposicion a la segunda venta el espacio muestral ya tiene uno menos = 79\n",
    "\n",
    "# P(30/80 Y 34/79)\n",
    "print(30/80 * 34/79) # a\n",
    "\n",
    "print(round(50/80 * 49/79,2))\n",
    "\n",
    "\n"
   ]
  },
  {
   "cell_type": "markdown",
   "metadata": {},
   "source": [
    "5. Si la selección de las dos ventas se realiza sin reposición. Hallar la probabilidad de que las ventas sean:<br>\n",
    "  Los sucesos son condicionales.\n",
    "  \n",
    " - a. De un comprador de “menos de 40 años” y de uno de \"entre 40 y 50 años\". Sin importar el orden."
   ]
  },
  {
   "cell_type": "code",
   "execution_count": 15,
   "metadata": {},
   "outputs": [
    {
     "name": "stdout",
     "output_type": "stream",
     "text": [
      "0.3227848101265823\n"
     ]
    }
   ],
   "source": [
    "# cuando hablamos de que no importa el orden es que puede ser uno u otro\n",
    "# hay una adicion osea \n",
    "\n",
    "print((30/80 * 34/79) + (34/80 * 30/79))"
   ]
  },
  {
   "cell_type": "markdown",
   "metadata": {},
   "source": [
    " 6. Debido al aumento de los costos de los seguros, en un país 43 millones de personas, hay personas que no cuentan con un seguro médico. En la tabla siguiente se muestran datos muestrales representativos de la cantidad de personas que cuentan con seguro médico:<br>\n",
    " ![Seguro](../_src/assets/seguro.PNG)\n",
    "\n",
    "- a. Con estos datos elabore una tabla de probabilidad conjunta y úsela para responder las preguntas restantes.\n",
    "- b. ¿Qué indican las probabilidades marginales acerca de la edad de la población?\n",
    "- c. ¿Cuál es la probabilidad de que una persona tomada en forma aleatoria no tenga seguro médico?\n",
    "- d. Si la persona tiene entre 18 y 34 años, ¿cuál es la probabilidad de que no tenga seguro médico?\n",
    "- e. Si la persona tiene 35 años o más ¿cuál es la probabilidad de que no tenga seguro médico?\n",
    "- f. Si la persona no tiene seguro médico, ¿cuál es la probabilidad de que tenga entre 18 y 34 años?"
   ]
  },
  {
   "cell_type": "code",
   "execution_count": 19,
   "metadata": {},
   "outputs": [
    {
     "name": "stdout",
     "output_type": "stream",
     "text": [
      "0.15\n",
      "0.1847826086956522\n",
      "0.12037037037037036\n",
      "0.5666666666666668\n"
     ]
    }
   ],
   "source": [
    "# b)    la table me muestra que 920 estan entre 18 y 34 y 1080 tiene 35 o mas \n",
    "#       1700 si tiene seguro medico y 300 no cuentan con seguro medico \n",
    "\n",
    "# c) que una persona no tenga seguro medico seria 300/2000\n",
    "print(300/2000) # este dato lo puedo sacar tambien de la tabla.\n",
    "\n",
    "# d) segun la tabla seria de un 18%\n",
    "print(0.085/0.46) # seria de un 18%\n",
    "\n",
    "# e) seria de un 12%\n",
    "print(0.065/0.54)\n",
    "\n",
    "# f \n",
    "print(0.085/0.15) # seria de un 56%"
   ]
  }
 ],
 "metadata": {
  "kernelspec": {
   "display_name": "Python 3",
   "language": "python",
   "name": "python3"
  },
  "language_info": {
   "codemirror_mode": {
    "name": "ipython",
    "version": 3
   },
   "file_extension": ".py",
   "mimetype": "text/x-python",
   "name": "python",
   "nbconvert_exporter": "python",
   "pygments_lexer": "ipython3",
   "version": "3.11.2"
  }
 },
 "nbformat": 4,
 "nbformat_minor": 2
}

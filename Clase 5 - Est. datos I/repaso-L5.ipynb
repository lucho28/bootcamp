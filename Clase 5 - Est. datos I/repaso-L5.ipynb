{
 "cells": [
  {
   "cell_type": "markdown",
   "metadata": {},
   "source": [
    "1) Implementar un juego, que consista en apilar números enteros del 1 al 20, de forma aleatoria, para lo cual debe usarse una estructura de Pila. \n",
    "Luego, el usuario debe elegir un número de veces en que se va a quitar elementos de la pila, los cuales, sumados entre sí, no deben superar el valor de 50.\n",
    "El usuario pierde si la suma supera ese valor. Si no lo supera, gana, pero su calificación será 10 menos el número elementos que falten quitar para todavía no superar 50.\n",
    "El programa debe informar si perdió, y si ganó, con qué calificación lo hizo.\n",
    "\n",
    "Consideraciones:<br>\n",
    "a. Se puede usar la función input() para obtener una entrada de teclado.<br>\n",
    "b. Se puede usar la el modulo random para obtener valores aleatorios."
   ]
  },
  {
   "cell_type": "code",
   "execution_count": 112,
   "metadata": {},
   "outputs": [],
   "source": [
    "import random\n",
    "import numpy as np\n",
    "\n",
    "class EstructuraPila():\n",
    "    \n",
    "    def __init__(self) -> None:\n",
    "        self.lista = []\n",
    "    \n",
    "    \n",
    "    def es_vacia(self):\n",
    "        if self.lista == []:\n",
    "            return True\n",
    "        else:\n",
    "            return False\n",
    "        \n",
    "    \n",
    "    def push(self, dato):\n",
    "        self.lista.append(dato)\n",
    "        \n",
    "    \n",
    "    def pop(self):\n",
    "        if not self.es_vacia():\n",
    "            self.lista.pop()\n",
    "        else:\n",
    "            print(\"La pila esta vacia ! \")\n",
    "    \n",
    "    \n",
    "    def ver_pila(self):\n",
    "        return self.lista\n",
    "            \n",
    "    def cargar_random(self):\n",
    "        self.lista = np.arange(1,21)\n",
    "        np.random.shuffle(self.lista)\n",
    "        self.lista = list(self.lista)\n",
    "            \n",
    "    def jugar(self):\n",
    "        intentos = int(input(\"Ingrese cuantas cartas: \"))\n",
    "        suma = 0\n",
    "        suma_alt = 0\n",
    "        i = 0\n",
    "        while i <= intentos:\n",
    "            suma += self.lista.pop() \n",
    "            suma_alt = suma\n",
    "            if suma > 50:\n",
    "                while suma_alt <= 50:\n",
    "                    suma_alt += self.lista.pop()\n",
    "                break\n",
    "            i+=1\n",
    "        \n",
    "        print(\"Suma: \",suma, \" Suma Alt: \", suma_alt)           \n",
    "        "
   ]
  },
  {
   "cell_type": "code",
   "execution_count": 113,
   "metadata": {},
   "outputs": [],
   "source": [
    "pila = EstructuraPila()"
   ]
  },
  {
   "cell_type": "code",
   "execution_count": 114,
   "metadata": {},
   "outputs": [],
   "source": [
    "pila.cargar_random()"
   ]
  },
  {
   "cell_type": "code",
   "execution_count": 115,
   "metadata": {},
   "outputs": [
    {
     "data": {
      "text/plain": [
       "[12, 7, 20, 18, 11, 10, 3, 1, 5, 19, 4, 8, 16, 6, 13, 14, 15, 9, 17, 2]"
      ]
     },
     "execution_count": 115,
     "metadata": {},
     "output_type": "execute_result"
    }
   ],
   "source": [
    "pila.ver_pila()"
   ]
  },
  {
   "cell_type": "code",
   "execution_count": 117,
   "metadata": {},
   "outputs": [
    {
     "name": "stdout",
     "output_type": "stream",
     "text": [
      "Suma:  64  Suma Alt:  64\n"
     ]
    }
   ],
   "source": [
    "pila.jugar()"
   ]
  }
 ],
 "metadata": {
  "kernelspec": {
   "display_name": "henry_venv",
   "language": "python",
   "name": "python3"
  },
  "language_info": {
   "codemirror_mode": {
    "name": "ipython",
    "version": 3
   },
   "file_extension": ".py",
   "mimetype": "text/x-python",
   "name": "python",
   "nbconvert_exporter": "python",
   "pygments_lexer": "ipython3",
   "version": "3.11.2"
  }
 },
 "nbformat": 4,
 "nbformat_minor": 2
}

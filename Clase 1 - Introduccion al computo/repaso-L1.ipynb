{
 "cells": [
  {
   "cell_type": "code",
   "execution_count": 51,
   "metadata": {},
   "outputs": [],
   "source": [
    "def binary_number(number):\n",
    "    \"\"\" Esta funcion toma un numero entero\n",
    "        lo pasa a binario.\n",
    "\n",
    "    Args:\n",
    "        number (_type_): Entero\n",
    "\n",
    "    Returns:\n",
    "        _type_: Entero\n",
    "    \"\"\"\n",
    "    binary_list = []\n",
    "    base = 2\n",
    "    \n",
    "    while base <= number:\n",
    "        rest = number % 2\n",
    "        number = number // 2\n",
    "        binary_list.append(rest)\n",
    "    binary_list.append(1)\n",
    "    i = len(binary_list) -1\n",
    "    final_number = ''\n",
    "    \n",
    "    while i >= 0:\n",
    "        final_number = final_number + str(binary_list[i])\n",
    "        i -= 1\n",
    "    return int(final_number)\n",
    "        \n",
    "  \n",
    "    "
   ]
  },
  {
   "cell_type": "code",
   "execution_count": 52,
   "metadata": {},
   "outputs": [
    {
     "data": {
      "text/plain": [
       "10010"
      ]
     },
     "execution_count": 52,
     "metadata": {},
     "output_type": "execute_result"
    }
   ],
   "source": [
    "binary_number(18)"
   ]
  },
  {
   "cell_type": "code",
   "execution_count": 14,
   "metadata": {},
   "outputs": [],
   "source": [
    "def fraccion_binary(number):\n",
    "    cant_decimal = 24\n",
    "    lista_binario = []\n",
    "    i = 0\n",
    "    while ((number > 0) and (i < cant_decimal)):\n",
    "        lista_binario.append(int(number * 2))\n",
    "        number = number * 2 - (int(number * 2))\n",
    "        i +=1 \n",
    "    \n",
    "    numero_final = '0.'\n",
    "    for i in lista_binario:\n",
    "        numero_final = numero_final + str(i)\n",
    "        \n",
    "    \n",
    "    return numero_final"
   ]
  },
  {
   "cell_type": "code",
   "execution_count": 16,
   "metadata": {},
   "outputs": [
    {
     "data": {
      "text/plain": [
       "'0.010101010101010101010101'"
      ]
     },
     "execution_count": 16,
     "metadata": {},
     "output_type": "execute_result"
    }
   ],
   "source": [
    "fraccion_binary(1/3)"
   ]
  }
 ],
 "metadata": {
  "kernelspec": {
   "display_name": "henry_venv",
   "language": "python",
   "name": "python3"
  },
  "language_info": {
   "codemirror_mode": {
    "name": "ipython",
    "version": 3
   },
   "file_extension": ".py",
   "mimetype": "text/x-python",
   "name": "python",
   "nbconvert_exporter": "python",
   "pygments_lexer": "ipython3",
   "version": "3.11.2"
  }
 },
 "nbformat": 4,
 "nbformat_minor": 2
}
